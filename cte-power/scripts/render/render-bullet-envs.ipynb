{
 "cells": [
  {
   "cell_type": "code",
   "execution_count": null,
   "metadata": {},
   "outputs": [],
   "source": [
    "import gym\n",
    "import ray\n",
    "from ray import tune\n",
    "from ray.rllib.agents.ppo import PPOTrainer\n",
    "from ray.rllib.agents.sac import SACTrainer\n",
    "from matplotlib import pyplot as plt\n",
    "from IPython import display\n",
    "import pybullet_envs"
   ]
  },
  {
   "cell_type": "code",
   "execution_count": null,
   "metadata": {},
   "outputs": [],
   "source": [
    "ray.shutdown()\n",
    "ray.init(ignore_reinit_error=True)\n",
    "\n",
    "\n",
    "ENV = 'HumanoidBulletEnv-v0'\n",
    "def make_env(env_config):\n",
    "    import pybullet_envs\n",
    "    return gym.make(ENV)\n",
    "tune.register_env(ENV, make_env)\n",
    "env = gym.make(ENV)\n",
    "\n",
    "config = {\n",
    "    \"env\": ENV,\n",
    "}\n",
    "\n",
    "config = {\n",
    "    \"env\": ENV,\n",
    "    \"monitor\": False,\n",
    "    \"evaluation_num_episodes\": 50,\n",
    "    \"gamma\": 0.995,\n",
    "    \"lambda\": 0.95,\n",
    "    \"clip_param\": 0.2,\n",
    "    \"kl_coeff\": 1.0,\n",
    "    \"num_sgd_iter\": 20,\n",
    "    \"lr\": .0001,\n",
    "    \"sgd_minibatch_size\": 32768,\n",
    "    \"train_batch_size\": 320_000,\n",
    "    \"model\": {\n",
    "        \"free_log_std\": True,\n",
    "    },\n",
    "    \"batch_mode\": \"complete_episodes\",\n",
    "    \"observation_filter\": \"MeanStdFilter\"\n",
    "}\n",
    "\n",
    "config = {\n",
    "    \"env\": ENV,\n",
    "}"
   ]
  },
  {
   "cell_type": "code",
   "execution_count": null,
   "metadata": {},
   "outputs": [],
   "source": [
    "CHECKPOINT = 50\r\n",
    "#checkpoint_path = fr'C:\\Users\\34685\\Desktop\\TFG\\ray-results-cte\\trained-agents\\HumanoidBulletEnv-v0\\PPO_2021-05-31_11-37-48\\PPO_HumanoidBulletEnv-v0_dc7f8_00000_0_2021-05-31_11-37-48\\checkpoint_{CHECKPOINT}\\checkpoint-{CHECKPOINT}'\r\n",
    "#checkpoint_path = fr'C:\\Users\\34685\\Desktop\\TFG\\ray-results-cte\\trained-agents\\HumanoidBulletEnv-v0\\PPO_2021-06-02_01-31-51\\PPO_HumanoidBulletEnv-v0_8aa4e_00000_0_2021-06-02_01-31-51\\checkpoint_{CHECKPOINT}\\checkpoint-{CHECKPOINT}'\r\n",
    "checkpoint_path = r'.\\agent\\checkpoint'\r\n",
    "agent = PPOTrainer(config)\r\n",
    "agent.restore(checkpoint_path)\r\n",
    "\r\n",
    "\r\n",
    "def watch_agent(env):\r\n",
    "  state = env.reset()\r\n",
    "  rewards = []\r\n",
    "  img = plt.imshow(env.render(mode='rgb_array'))\r\n",
    "  for t in range(2000):\r\n",
    "    action=agent.compute_action(state)\r\n",
    "\r\n",
    "    img.set_data(env.render(mode='rgb_array')) \r\n",
    "    plt.axis('off')\r\n",
    "    display.display(plt.gcf())\r\n",
    "    display.clear_output(wait=True)\r\n",
    "\r\n",
    "    state, reward, done, _ = env.step(action)\r\n",
    "    rewards.append(reward)\r\n",
    "    if done:\r\n",
    "        print(\"Reward:\", sum([r for r in rewards]))\r\n",
    "        break \r\n",
    "    \r\n",
    "    input(\"next step\")\r\n",
    "\r\n",
    "watch_agent(env)\r\n"
   ]
  },
  {
   "cell_type": "code",
   "execution_count": null,
   "metadata": {},
   "outputs": [],
   "source": [
    "env.observation_space"
   ]
  },
  {
   "cell_type": "code",
   "execution_count": null,
   "metadata": {},
   "outputs": [],
   "source": [
    "env.action_space"
   ]
  },
  {
   "cell_type": "code",
   "execution_count": null,
   "metadata": {},
   "outputs": [],
   "source": [
    "env.close()"
   ]
  },
  {
   "cell_type": "code",
   "execution_count": null,
   "metadata": {},
   "outputs": [],
   "source": []
  }
 ],
 "metadata": {
  "kernelspec": {
   "display_name": "Python 3.7.4 64-bit",
   "language": "python",
   "name": "python37464bit7d8f1560eda44d7483159e2196aa1f7a"
  },
  "language_info": {
   "codemirror_mode": {
    "name": "ipython",
    "version": 3
   },
   "file_extension": ".py",
   "mimetype": "text/x-python",
   "name": "python",
   "nbconvert_exporter": "python",
   "pygments_lexer": "ipython3",
   "version": "3.7.4"
  }
 },
 "nbformat": 4,
 "nbformat_minor": 2
}