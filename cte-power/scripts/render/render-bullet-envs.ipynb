{
 "cells": [
  {
   "cell_type": "code",
   "execution_count": 1,
   "metadata": {},
   "outputs": [
    {
     "name": "stdout",
     "output_type": "stream",
     "text": [
      "WARNING:tensorflow:From C:\\Python37\\lib\\site-packages\\tensorflow\\python\\compat\\v2_compat.py:96: disable_resource_variables (from tensorflow.python.ops.variable_scope) is deprecated and will be removed in a future version.\n",
      "Instructions for updating:\n",
      "non-resource variables are not supported in the long term\n",
      "WARNING:tensorflow:From C:\\Python37\\lib\\site-packages\\tensorflow_probability\\python\\internal\\variadic_reduce.py:115: calling function (from tensorflow.python.eager.def_function) with experimental_compile is deprecated and will be removed in a future version.\n",
      "Instructions for updating:\n",
      "experimental_compile is deprecated, use jit_compile instead\n"
     ]
    }
   ],
   "source": [
    "import gym\n",
    "import ray\n",
    "from ray import tune\n",
    "from ray.rllib.agents.ppo import PPOTrainer\n",
    "from ray.rllib.agents.sac import SACTrainer\n",
    "from matplotlib import pyplot as plt\n",
    "from IPython import display\n",
    "import pybullet_envs"
   ]
  },
  {
   "cell_type": "code",
   "execution_count": 5,
   "metadata": {},
   "outputs": [
    {
     "name": "stderr",
     "output_type": "stream",
     "text": [
      "2021-06-20 09:37:06,493\tINFO services.py:1174 -- View the Ray dashboard at \u001b[1m\u001b[32mhttp://127.0.0.1:8265\u001b[39m\u001b[22m\n"
     ]
    }
   ],
   "source": [
    "ray.shutdown()\n",
    "ray.init(ignore_reinit_error=True)\n",
    "\n",
    "\n",
    "ENV = 'HumanoidBulletEnv-v0'\n",
    "def make_env(env_config):\n",
    "    import pybullet_envs\n",
    "    return gym.make(ENV)\n",
    "tune.register_env(ENV, make_env)\n",
    "env = gym.make(ENV)\n",
    "\n",
    "config = {\n",
    "    \"env\": ENV,\n",
    "}\n",
    "\n",
    "config = {\n",
    "    \"env\": ENV,\n",
    "    \"monitor\": False,\n",
    "    \"evaluation_num_episodes\": 50,\n",
    "    \"gamma\": 0.995,\n",
    "    \"lambda\": 0.95,\n",
    "    \"clip_param\": 0.2,\n",
    "    \"kl_coeff\": 1.0,\n",
    "    \"num_sgd_iter\": 20,\n",
    "    \"lr\": .0001,\n",
    "    \"sgd_minibatch_size\": 32768,\n",
    "    \"train_batch_size\": 320_000,\n",
    "    \"model\": {\n",
    "        \"free_log_std\": True,\n",
    "    },\n",
    "    \"batch_mode\": \"complete_episodes\",\n",
    "    \"observation_filter\": \"MeanStdFilter\"\n",
    "}\n",
    "\n",
    "config = {\n",
    "    \"env\": ENV,\n",
    "}"
   ]
  },
  {
   "cell_type": "code",
   "execution_count": 6,
   "metadata": {},
   "outputs": [
    {
     "name": "stderr",
     "output_type": "stream",
     "text": [
      "\u001b[2m\u001b[36m(pid=24624)\u001b[0m WARNING:tensorflow:From C:\\Python37\\lib\\site-packages\\tensorflow\\python\\compat\\v2_compat.py:96: disable_resource_variables (from tensorflow.python.ops.variable_scope) is deprecated and will be removed in a future version.\n",
      "\u001b[2m\u001b[36m(pid=24624)\u001b[0m Instructions for updating:\n",
      "\u001b[2m\u001b[36m(pid=24624)\u001b[0m non-resource variables are not supported in the long term\n",
      "\u001b[2m\u001b[36m(pid=24624)\u001b[0m WARNING:tensorflow:From C:\\Python37\\lib\\site-packages\\tensorflow\\python\\compat\\v2_compat.py:96: disable_resource_variables (from tensorflow.python.ops.variable_scope) is deprecated and will be removed in a future version.\n",
      "\u001b[2m\u001b[36m(pid=24624)\u001b[0m Instructions for updating:\n",
      "\u001b[2m\u001b[36m(pid=24624)\u001b[0m non-resource variables are not supported in the long term\n",
      "\u001b[2m\u001b[36m(pid=3792)\u001b[0m WARNING:tensorflow:From C:\\Python37\\lib\\site-packages\\tensorflow\\python\\compat\\v2_compat.py:96: disable_resource_variables (from tensorflow.python.ops.variable_scope) is deprecated and will be removed in a future version.\n",
      "\u001b[2m\u001b[36m(pid=3792)\u001b[0m Instructions for updating:\n",
      "\u001b[2m\u001b[36m(pid=3792)\u001b[0m non-resource variables are not supported in the long term\n",
      "\u001b[2m\u001b[36m(pid=3792)\u001b[0m WARNING:tensorflow:From C:\\Python37\\lib\\site-packages\\tensorflow\\python\\compat\\v2_compat.py:96: disable_resource_variables (from tensorflow.python.ops.variable_scope) is deprecated and will be removed in a future version.\n",
      "\u001b[2m\u001b[36m(pid=3792)\u001b[0m Instructions for updating:\n",
      "\u001b[2m\u001b[36m(pid=3792)\u001b[0m non-resource variables are not supported in the long term\n",
      "\u001b[2m\u001b[36m(pid=24624)\u001b[0m WARNING:tensorflow:From C:\\Python37\\lib\\site-packages\\tensorflow_probability\\python\\internal\\variadic_reduce.py:115: calling function (from tensorflow.python.eager.def_function) with experimental_compile is deprecated and will be removed in a future version.\n",
      "\u001b[2m\u001b[36m(pid=24624)\u001b[0m Instructions for updating:\n",
      "\u001b[2m\u001b[36m(pid=24624)\u001b[0m experimental_compile is deprecated, use jit_compile instead\n",
      "\u001b[2m\u001b[36m(pid=24624)\u001b[0m WARNING:tensorflow:From C:\\Python37\\lib\\site-packages\\tensorflow_probability\\python\\internal\\variadic_reduce.py:115: calling function (from tensorflow.python.eager.def_function) with experimental_compile is deprecated and will be removed in a future version.\n",
      "\u001b[2m\u001b[36m(pid=24624)\u001b[0m Instructions for updating:\n",
      "\u001b[2m\u001b[36m(pid=24624)\u001b[0m experimental_compile is deprecated, use jit_compile instead\n",
      "\u001b[2m\u001b[36m(pid=3792)\u001b[0m WARNING:tensorflow:From C:\\Python37\\lib\\site-packages\\tensorflow_probability\\python\\internal\\variadic_reduce.py:115: calling function (from tensorflow.python.eager.def_function) with experimental_compile is deprecated and will be removed in a future version.\n",
      "\u001b[2m\u001b[36m(pid=3792)\u001b[0m Instructions for updating:\n",
      "\u001b[2m\u001b[36m(pid=3792)\u001b[0m experimental_compile is deprecated, use jit_compile instead\n",
      "\u001b[2m\u001b[36m(pid=3792)\u001b[0m WARNING:tensorflow:From C:\\Python37\\lib\\site-packages\\tensorflow_probability\\python\\internal\\variadic_reduce.py:115: calling function (from tensorflow.python.eager.def_function) with experimental_compile is deprecated and will be removed in a future version.\n",
      "\u001b[2m\u001b[36m(pid=3792)\u001b[0m Instructions for updating:\n",
      "\u001b[2m\u001b[36m(pid=3792)\u001b[0m experimental_compile is deprecated, use jit_compile instead\n",
      "\u001b[2m\u001b[36m(pid=24624)\u001b[0m pybullet build time: Apr 21 2021 00:15:57\n",
      "\u001b[2m\u001b[36m(pid=24624)\u001b[0m C:\\Python37\\lib\\site-packages\\gym\\logger.py:30: UserWarning: \u001b[33mWARN: Box bound precision lowered by casting to float32\u001b[0m\n",
      "\u001b[2m\u001b[36m(pid=24624)\u001b[0m   warnings.warn(colorize('%s: %s'%('WARN', msg % args), 'yellow'))\n",
      "\u001b[2m\u001b[36m(pid=24624)\u001b[0m pybullet build time: Apr 21 2021 00:15:57\n",
      "\u001b[2m\u001b[36m(pid=24624)\u001b[0m C:\\Python37\\lib\\site-packages\\gym\\logger.py:30: UserWarning: \u001b[33mWARN: Box bound precision lowered by casting to float32\u001b[0m\n",
      "\u001b[2m\u001b[36m(pid=24624)\u001b[0m   warnings.warn(colorize('%s: %s'%('WARN', msg % args), 'yellow'))\n",
      "\u001b[2m\u001b[36m(pid=3792)\u001b[0m pybullet build time: Apr 21 2021 00:15:57\n",
      "\u001b[2m\u001b[36m(pid=3792)\u001b[0m C:\\Python37\\lib\\site-packages\\gym\\logger.py:30: UserWarning: \u001b[33mWARN: Box bound precision lowered by casting to float32\u001b[0m\n",
      "\u001b[2m\u001b[36m(pid=3792)\u001b[0m   warnings.warn(colorize('%s: %s'%('WARN', msg % args), 'yellow'))\n",
      "\u001b[2m\u001b[36m(pid=3792)\u001b[0m pybullet build time: Apr 21 2021 00:15:57\n",
      "\u001b[2m\u001b[36m(pid=3792)\u001b[0m C:\\Python37\\lib\\site-packages\\gym\\logger.py:30: UserWarning: \u001b[33mWARN: Box bound precision lowered by casting to float32\u001b[0m\n",
      "\u001b[2m\u001b[36m(pid=3792)\u001b[0m   warnings.warn(colorize('%s: %s'%('WARN', msg % args), 'yellow'))\n",
      "\u001b[2m\u001b[36m(pid=24624)\u001b[0m 2021-06-20 09:37:24,183\tWARNING deprecation.py:34 -- DeprecationWarning: `framestack` has been deprecated. Use `num_framestacks (int)` instead. This will raise an error in the future!\n",
      "\u001b[2m\u001b[36m(pid=24624)\u001b[0m 2021-06-20 09:37:24,183\tWARNING deprecation.py:34 -- DeprecationWarning: `framestack` has been deprecated. Use `num_framestacks (int)` instead. This will raise an error in the future!\n",
      "\u001b[2m\u001b[36m(pid=3792)\u001b[0m 2021-06-20 09:37:24,175\tWARNING deprecation.py:34 -- DeprecationWarning: `framestack` has been deprecated. Use `num_framestacks (int)` instead. This will raise an error in the future!\n",
      "\u001b[2m\u001b[36m(pid=3792)\u001b[0m 2021-06-20 09:37:24,175\tWARNING deprecation.py:34 -- DeprecationWarning: `framestack` has been deprecated. Use `num_framestacks (int)` instead. This will raise an error in the future!\n",
      "2021-06-20 09:37:25,348\tWARNING deprecation.py:34 -- DeprecationWarning: `framestack` has been deprecated. Use `num_framestacks (int)` instead. This will raise an error in the future!\n",
      "2021-06-20 09:37:27,645\tWARNING util.py:47 -- Install gputil for GPU system monitoring.\n"
     ]
    },
    {
     "ename": "AttributeError",
     "evalue": "'PPO' object has no attribute 'optimizer'",
     "output_type": "error",
     "traceback": [
      "\u001b[1;31m---------------------------------------------------------------------------\u001b[0m",
      "\u001b[1;31mAttributeError\u001b[0m                            Traceback (most recent call last)",
      "\u001b[1;32m<ipython-input-6-f0fb07690765>\u001b[0m in \u001b[0;36m<module>\u001b[1;34m\u001b[0m\n\u001b[0;32m      4\u001b[0m \u001b[0mcheckpoint_path\u001b[0m \u001b[1;33m=\u001b[0m \u001b[1;34mr'.\\agent\\checkpoint'\u001b[0m\u001b[1;33m\u001b[0m\u001b[1;33m\u001b[0m\u001b[0m\n\u001b[0;32m      5\u001b[0m \u001b[0magent\u001b[0m \u001b[1;33m=\u001b[0m \u001b[0mPPOTrainer\u001b[0m\u001b[1;33m(\u001b[0m\u001b[0mconfig\u001b[0m\u001b[1;33m)\u001b[0m\u001b[1;33m\u001b[0m\u001b[1;33m\u001b[0m\u001b[0m\n\u001b[1;32m----> 6\u001b[1;33m \u001b[0magent\u001b[0m\u001b[1;33m.\u001b[0m\u001b[0mrestore\u001b[0m\u001b[1;33m(\u001b[0m\u001b[0mcheckpoint_path\u001b[0m\u001b[1;33m)\u001b[0m\u001b[1;33m\u001b[0m\u001b[1;33m\u001b[0m\u001b[0m\n\u001b[0m\u001b[0;32m      7\u001b[0m \u001b[1;33m\u001b[0m\u001b[0m\n\u001b[0;32m      8\u001b[0m \u001b[1;33m\u001b[0m\u001b[0m\n",
      "\u001b[1;32mC:\\Python37\\lib\\site-packages\\ray\\tune\\trainable.py\u001b[0m in \u001b[0;36mrestore\u001b[1;34m(self, checkpoint_path)\u001b[0m\n\u001b[0;32m    364\u001b[0m             \u001b[0mself\u001b[0m\u001b[1;33m.\u001b[0m\u001b[0mload_checkpoint\u001b[0m\u001b[1;33m(\u001b[0m\u001b[0mcheckpoint_dict\u001b[0m\u001b[1;33m)\u001b[0m\u001b[1;33m\u001b[0m\u001b[1;33m\u001b[0m\u001b[0m\n\u001b[0;32m    365\u001b[0m         \u001b[1;32melse\u001b[0m\u001b[1;33m:\u001b[0m\u001b[1;33m\u001b[0m\u001b[1;33m\u001b[0m\u001b[0m\n\u001b[1;32m--> 366\u001b[1;33m             \u001b[0mself\u001b[0m\u001b[1;33m.\u001b[0m\u001b[0mload_checkpoint\u001b[0m\u001b[1;33m(\u001b[0m\u001b[0mcheckpoint_path\u001b[0m\u001b[1;33m)\u001b[0m\u001b[1;33m\u001b[0m\u001b[1;33m\u001b[0m\u001b[0m\n\u001b[0m\u001b[0;32m    367\u001b[0m         \u001b[0mself\u001b[0m\u001b[1;33m.\u001b[0m\u001b[0m_time_since_restore\u001b[0m \u001b[1;33m=\u001b[0m \u001b[1;36m0.0\u001b[0m\u001b[1;33m\u001b[0m\u001b[1;33m\u001b[0m\u001b[0m\n\u001b[0;32m    368\u001b[0m         \u001b[0mself\u001b[0m\u001b[1;33m.\u001b[0m\u001b[0m_timesteps_since_restore\u001b[0m \u001b[1;33m=\u001b[0m \u001b[1;36m0\u001b[0m\u001b[1;33m\u001b[0m\u001b[1;33m\u001b[0m\u001b[0m\n",
      "\u001b[1;32mC:\\Python37\\lib\\site-packages\\ray\\rllib\\agents\\trainer.py\u001b[0m in \u001b[0;36mload_checkpoint\u001b[1;34m(self, checkpoint_path)\u001b[0m\n\u001b[0;32m    695\u001b[0m     \u001b[1;32mdef\u001b[0m \u001b[0mload_checkpoint\u001b[0m\u001b[1;33m(\u001b[0m\u001b[0mself\u001b[0m\u001b[1;33m,\u001b[0m \u001b[0mcheckpoint_path\u001b[0m\u001b[1;33m:\u001b[0m \u001b[0mstr\u001b[0m\u001b[1;33m)\u001b[0m\u001b[1;33m:\u001b[0m\u001b[1;33m\u001b[0m\u001b[1;33m\u001b[0m\u001b[0m\n\u001b[0;32m    696\u001b[0m         \u001b[0mextra_data\u001b[0m \u001b[1;33m=\u001b[0m \u001b[0mpickle\u001b[0m\u001b[1;33m.\u001b[0m\u001b[0mload\u001b[0m\u001b[1;33m(\u001b[0m\u001b[0mopen\u001b[0m\u001b[1;33m(\u001b[0m\u001b[0mcheckpoint_path\u001b[0m\u001b[1;33m,\u001b[0m \u001b[1;34m\"rb\"\u001b[0m\u001b[1;33m)\u001b[0m\u001b[1;33m)\u001b[0m\u001b[1;33m\u001b[0m\u001b[1;33m\u001b[0m\u001b[0m\n\u001b[1;32m--> 697\u001b[1;33m         \u001b[0mself\u001b[0m\u001b[1;33m.\u001b[0m\u001b[0m__setstate__\u001b[0m\u001b[1;33m(\u001b[0m\u001b[0mextra_data\u001b[0m\u001b[1;33m)\u001b[0m\u001b[1;33m\u001b[0m\u001b[1;33m\u001b[0m\u001b[0m\n\u001b[0m\u001b[0;32m    698\u001b[0m \u001b[1;33m\u001b[0m\u001b[0m\n\u001b[0;32m    699\u001b[0m     \u001b[1;33m@\u001b[0m\u001b[0mDeveloperAPI\u001b[0m\u001b[1;33m\u001b[0m\u001b[1;33m\u001b[0m\u001b[0m\n",
      "\u001b[1;32mC:\\Python37\\lib\\site-packages\\ray\\rllib\\agents\\trainer_template.py\u001b[0m in \u001b[0;36m__setstate__\u001b[1;34m(self, state)\u001b[0m\n\u001b[0;32m    175\u001b[0m         \u001b[1;33m@\u001b[0m\u001b[0moverride\u001b[0m\u001b[1;33m(\u001b[0m\u001b[0mTrainer\u001b[0m\u001b[1;33m)\u001b[0m\u001b[1;33m\u001b[0m\u001b[1;33m\u001b[0m\u001b[0m\n\u001b[0;32m    176\u001b[0m         \u001b[1;32mdef\u001b[0m \u001b[0m__setstate__\u001b[0m\u001b[1;33m(\u001b[0m\u001b[0mself\u001b[0m\u001b[1;33m,\u001b[0m \u001b[0mstate\u001b[0m\u001b[1;33m)\u001b[0m\u001b[1;33m:\u001b[0m\u001b[1;33m\u001b[0m\u001b[1;33m\u001b[0m\u001b[0m\n\u001b[1;32m--> 177\u001b[1;33m             \u001b[0mTrainer\u001b[0m\u001b[1;33m.\u001b[0m\u001b[0m__setstate__\u001b[0m\u001b[1;33m(\u001b[0m\u001b[0mself\u001b[0m\u001b[1;33m,\u001b[0m \u001b[0mstate\u001b[0m\u001b[1;33m)\u001b[0m\u001b[1;33m\u001b[0m\u001b[1;33m\u001b[0m\u001b[0m\n\u001b[0m\u001b[0;32m    178\u001b[0m             self.train_exec_impl.shared_metrics.get().restore(\n\u001b[0;32m    179\u001b[0m                 state[\"train_exec_impl\"])\n",
      "\u001b[1;32mC:\\Python37\\lib\\site-packages\\ray\\rllib\\agents\\trainer.py\u001b[0m in \u001b[0;36m__setstate__\u001b[1;34m(self, state)\u001b[0m\n\u001b[0;32m   1238\u001b[0m                 \u001b[0mr\u001b[0m\u001b[1;33m.\u001b[0m\u001b[0mrestore\u001b[0m\u001b[1;33m.\u001b[0m\u001b[0mremote\u001b[0m\u001b[1;33m(\u001b[0m\u001b[0mremote_state\u001b[0m\u001b[1;33m)\u001b[0m\u001b[1;33m\u001b[0m\u001b[1;33m\u001b[0m\u001b[0m\n\u001b[0;32m   1239\u001b[0m         \u001b[1;32mif\u001b[0m \u001b[1;34m\"optimizer\"\u001b[0m \u001b[1;32min\u001b[0m \u001b[0mstate\u001b[0m\u001b[1;33m:\u001b[0m\u001b[1;33m\u001b[0m\u001b[1;33m\u001b[0m\u001b[0m\n\u001b[1;32m-> 1240\u001b[1;33m             \u001b[0mself\u001b[0m\u001b[1;33m.\u001b[0m\u001b[0moptimizer\u001b[0m\u001b[1;33m.\u001b[0m\u001b[0mrestore\u001b[0m\u001b[1;33m(\u001b[0m\u001b[0mstate\u001b[0m\u001b[1;33m[\u001b[0m\u001b[1;34m\"optimizer\"\u001b[0m\u001b[1;33m]\u001b[0m\u001b[1;33m)\u001b[0m\u001b[1;33m\u001b[0m\u001b[1;33m\u001b[0m\u001b[0m\n\u001b[0m\u001b[0;32m   1241\u001b[0m \u001b[1;33m\u001b[0m\u001b[0m\n\u001b[0;32m   1242\u001b[0m     \u001b[1;33m@\u001b[0m\u001b[0mstaticmethod\u001b[0m\u001b[1;33m\u001b[0m\u001b[1;33m\u001b[0m\u001b[0m\n",
      "\u001b[1;31mAttributeError\u001b[0m: 'PPO' object has no attribute 'optimizer'"
     ]
    },
    {
     "name": "stderr",
     "output_type": "stream",
     "text": [
      "2021-06-20 09:41:44,918\tWARNING worker.py:1107 -- The dashboard on node MSI failed with the following error:\n",
      "Traceback (most recent call last):\n",
      "  File \"C:\\Python37\\lib\\site-packages\\ray\\new_dashboard\\dashboard.py\", line 192, in <module>\n",
      "    log_dir=args.log_dir)\n",
      "  File \"C:\\Python37\\lib\\site-packages\\ray\\new_dashboard\\dashboard.py\", line 81, in __init__\n",
      "    build_dir = setup_static_dir()\n",
      "  File \"C:\\Python37\\lib\\site-packages\\ray\\new_dashboard\\dashboard.py\", line 45, in setup_static_dir\n",
      "    \"&& npm run build)\", build_dir)\n",
      "FileNotFoundError: [Errno 2] Dashboard build directory not found. If installing from source, please follow the additional steps required to build the dashboard(cd python/ray/new_dashboard/client && npm install && npm ci && npm run build): 'C:\\\\Python37\\\\lib\\\\site-packages\\\\ray\\\\new_dashboard\\\\client\\\\build'\n",
      "\n",
      "\u001b[2m\u001b[36m(pid=None)\u001b[0m [2021-06-20 09:41:48,349 C 22348 25220] redis_client.cc:74:  Check failed: num_attempts < RayConfig::instance().redis_db_connect_retries() Expected 1 Redis shard addresses, found 7957653255189831740\n",
      "\u001b[2m\u001b[36m(pid=None)\u001b[0m [2021-06-20 09:41:48,352 E 22348 25220] logging.cc:415: *** Aborted at 1624174908 (unix time) try \"date -d @1624174908\" if you are using GNU date ***\n",
      "\u001b[2m\u001b[36m(pid=None)\u001b[0m [2021-06-20 09:41:48,362 E 22348 25220] logging.cc:415:     @     0x7ffd7dfe1881 raise\n",
      "\u001b[2m\u001b[36m(pid=None)\u001b[0m [2021-06-20 09:41:48,362 E 22348 25220] logging.cc:415:     @     0x7ffd7dfe2851 abort\n",
      "\u001b[2m\u001b[36m(pid=None)\u001b[0m [2021-06-20 09:41:48,363 E 22348 25220] logging.cc:415:     @     0x7ff7258076d9 public: void __cdecl google::NullStreamFatal::`vbase destructor'(void) __ptr64\n",
      "\u001b[2m\u001b[36m(pid=None)\u001b[0m [2021-06-20 09:41:48,363 E 22348 25220] logging.cc:415:     @     0x7ff725805f11 public: virtual __cdecl google::NullStreamFatal::~NullStreamFatal(void) __ptr64\n",
      "\u001b[2m\u001b[36m(pid=None)\u001b[0m [2021-06-20 09:41:48,364 E 22348 25220] logging.cc:415:     @     0x7ff72576aae4 public: class google::LogMessageVoidify & __ptr64 __cdecl google::LogMessageVoidify::operator=(class google::LogMessageVoidify const & __ptr64) __ptr64\n",
      "\u001b[2m\u001b[36m(pid=None)\u001b[0m [2021-06-20 09:41:48,364 E 22348 25220] logging.cc:415:     @     0x7ff725769d17 public: class google::LogMessageVoidify & __ptr64 __cdecl google::LogMessageVoidify::operator=(class google::LogMessageVoidify const & __ptr64) __ptr64\n",
      "\u001b[2m\u001b[36m(pid=None)\u001b[0m [2021-06-20 09:41:48,364 E 22348 25220] logging.cc:415:     @     0x7ff725769764 public: class google::LogMessageVoidify & __ptr64 __cdecl google::LogMessageVoidify::operator=(class google::LogMessageVoidify const & __ptr64) __ptr64\n",
      "\u001b[2m\u001b[36m(pid=None)\u001b[0m [2021-06-20 09:41:48,364 E 22348 25220] logging.cc:415:     @     0x7ff725666a1e public: virtual void __cdecl google::LogSink::WaitTillSent(void) __ptr64\n",
      "\u001b[2m\u001b[36m(pid=None)\u001b[0m [2021-06-20 09:41:48,365 E 22348 25220] logging.cc:415:     @     0x7ff7256619ae (unknown)\n",
      "\u001b[2m\u001b[36m(pid=None)\u001b[0m [2021-06-20 09:41:48,365 E 22348 25220] logging.cc:415:     @     0x7ffd7df91bb2 _configthreadlocale\n",
      "\u001b[2m\u001b[36m(pid=None)\u001b[0m [2021-06-20 09:41:48,366 E 22348 25220] logging.cc:415:     @     0x7ffd7e7d7034 BaseThreadInitThunk\n",
      "\u001b[2m\u001b[36m(pid=None)\u001b[0m [2021-06-20 09:41:48,369 E 22348 25220] logging.cc:415:     @     0x7ffd807a2651 RtlUserThreadStart\n",
      "\u001b[2m\u001b[36m(pid=None)\u001b[0m [2021-06-20 09:41:48,349 C 22348 25220] redis_client.cc:74:  Check failed: num_attempts < RayConfig::instance().redis_db_connect_retries() Expected 1 Redis shard addresses, found 7957653255189831740\n",
      "\u001b[2m\u001b[36m(pid=None)\u001b[0m [2021-06-20 09:41:48,352 E 22348 25220] logging.cc:415: *** Aborted at 1624174908 (unix time) try \"date -d @1624174908\" if you are using GNU date ***\n",
      "\u001b[2m\u001b[36m(pid=None)\u001b[0m [2021-06-20 09:41:48,362 E 22348 25220] logging.cc:415:     @     0x7ffd7dfe1881 raise\n",
      "\u001b[2m\u001b[36m(pid=None)\u001b[0m [2021-06-20 09:41:48,362 E 22348 25220] logging.cc:415:     @     0x7ffd7dfe2851 abort\n",
      "\u001b[2m\u001b[36m(pid=None)\u001b[0m [2021-06-20 09:41:48,363 E 22348 25220] logging.cc:415:     @     0x7ff7258076d9 public: void __cdecl google::NullStreamFatal::`vbase destructor'(void) __ptr64\n",
      "\u001b[2m\u001b[36m(pid=None)\u001b[0m [2021-06-20 09:41:48,363 E 22348 25220] logging.cc:415:     @     0x7ff725805f11 public: virtual __cdecl google::NullStreamFatal::~NullStreamFatal(void) __ptr64\n",
      "\u001b[2m\u001b[36m(pid=None)\u001b[0m [2021-06-20 09:41:48,364 E 22348 25220] logging.cc:415:     @     0x7ff72576aae4 public: class google::LogMessageVoidify & __ptr64 __cdecl google::LogMessageVoidify::operator=(class google::LogMessageVoidify const & __ptr64) __ptr64\n",
      "\u001b[2m\u001b[36m(pid=None)\u001b[0m [2021-06-20 09:41:48,364 E 22348 25220] logging.cc:415:     @     0x7ff725769d17 public: class google::LogMessageVoidify & __ptr64 __cdecl google::LogMessageVoidify::operator=(class google::LogMessageVoidify const & __ptr64) __ptr64\n",
      "\u001b[2m\u001b[36m(pid=None)\u001b[0m [2021-06-20 09:41:48,364 E 22348 25220] logging.cc:415:     @     0x7ff725769764 public: class google::LogMessageVoidify & __ptr64 __cdecl google::LogMessageVoidify::operator=(class google::LogMessageVoidify const & __ptr64) __ptr64\n",
      "\u001b[2m\u001b[36m(pid=None)\u001b[0m [2021-06-20 09:41:48,364 E 22348 25220] logging.cc:415:     @     0x7ff725666a1e public: virtual void __cdecl google::LogSink::WaitTillSent(void) __ptr64\n",
      "\u001b[2m\u001b[36m(pid=None)\u001b[0m [2021-06-20 09:41:48,365 E 22348 25220] logging.cc:415:     @     0x7ff7256619ae (unknown)\n",
      "\u001b[2m\u001b[36m(pid=None)\u001b[0m [2021-06-20 09:41:48,365 E 22348 25220] logging.cc:415:     @     0x7ffd7df91bb2 _configthreadlocale\n",
      "\u001b[2m\u001b[36m(pid=None)\u001b[0m [2021-06-20 09:41:48,366 E 22348 25220] logging.cc:415:     @     0x7ffd7e7d7034 BaseThreadInitThunk\n",
      "\u001b[2m\u001b[36m(pid=None)\u001b[0m [2021-06-20 09:41:48,369 E 22348 25220] logging.cc:415:     @     0x7ffd807a2651 RtlUserThreadStart\n",
      "\u001b[2m\u001b[36m(pid=None)\u001b[0m [2021-06-20 09:41:48,548 C 30108 27204] redis_client.cc:74:  Check failed: num_attempts < RayConfig::instance().redis_db_connect_retries() Expected 1 Redis shard addresses, found 2\n",
      "\u001b[2m\u001b[36m(pid=None)\u001b[0m [2021-06-20 09:41:48,549 E 30108 27204] logging.cc:415: *** Aborted at 1624174908 (unix time) try \"date -d @1624174908\" if you are using GNU date ***\n",
      "\u001b[2m\u001b[36m(pid=None)\u001b[0m [2021-06-20 09:41:48,553 E 30108 27204] logging.cc:415:     @     0x7ffd7dfe1881 raise\n",
      "\u001b[2m\u001b[36m(pid=None)\u001b[0m [2021-06-20 09:41:48,553 E 30108 27204] logging.cc:415:     @     0x7ffd7dfe2851 abort\n",
      "\u001b[2m\u001b[36m(pid=None)\u001b[0m [2021-06-20 09:41:48,554 E 30108 27204] logging.cc:415:     @     0x7ff7d763ff19 public: void __cdecl google::NullStreamFatal::`vbase destructor'(void) __ptr64\n",
      "\u001b[2m\u001b[36m(pid=None)\u001b[0m [2021-06-20 09:41:48,554 E 30108 27204] logging.cc:415:     @     0x7ff7d763e7e1 public: virtual __cdecl google::NullStreamFatal::~NullStreamFatal(void) __ptr64\n",
      "\u001b[2m\u001b[36m(pid=None)\u001b[0m [2021-06-20 09:41:48,554 E 30108 27204] logging.cc:415:     @     0x7ff7d7548884 public: class google::LogMessage::LogStream * __ptr64 __cdecl google::LogMessage::LogStream::self(void)const __ptr64\n",
      "\u001b[2m\u001b[36m(pid=None)\u001b[0m [2021-06-20 09:41:48,554 E 30108 27204] logging.cc:415:     @     0x7ff7d75479c7 public: class google::LogMessage::LogStream * __ptr64 __cdecl google::LogMessage::LogStream::self(void)const __ptr64\n",
      "\u001b[2m\u001b[36m(pid=None)\u001b[0m [2021-06-20 09:41:48,554 E 30108 27204] logging.cc:415:     @     0x7ff7d7547414 public: class google::LogMessage::LogStream * __ptr64 __cdecl google::LogMessage::LogStream::self(void)const __ptr64\n",
      "\u001b[2m\u001b[36m(pid=None)\u001b[0m [2021-06-20 09:41:48,554 E 30108 27204] logging.cc:415:     @     0x7ff7d750201e public: class google::LogMessage::LogStream * __ptr64 __cdecl google::LogMessage::LogStream::self(void)const __ptr64\n",
      "\u001b[2m\u001b[36m(pid=None)\u001b[0m [2021-06-20 09:41:48,554 E 30108 27204] logging.cc:415:     @     0x7ff7d73d78ef public: class google::NullStream & __ptr64 __cdecl google::NullStream::stream(void) __ptr64\n",
      "\u001b[2m\u001b[36m(pid=None)\u001b[0m [2021-06-20 09:41:48,554 E 30108 27204] logging.cc:415:     @     0x7ff7d791ed30 bool __cdecl google::Demangle(char const * __ptr64,char * __ptr64,int)\n",
      "\u001b[2m\u001b[36m(pid=None)\u001b[0m [2021-06-20 09:41:48,555 E 30108 27204] logging.cc:415:     @     0x7ffd7e7d7034 BaseThreadInitThunk\n",
      "\u001b[2m\u001b[36m(pid=None)\u001b[0m [2021-06-20 09:41:48,557 E 30108 27204] logging.cc:415:     @     0x7ffd807a2651 RtlUserThreadStart\n",
      "\u001b[2m\u001b[36m(pid=None)\u001b[0m [2021-06-20 09:41:48,548 C 30108 27204] redis_client.cc:74:  Check failed: num_attempts < RayConfig::instance().redis_db_connect_retries() Expected 1 Redis shard addresses, found 2\n",
      "\u001b[2m\u001b[36m(pid=None)\u001b[0m [2021-06-20 09:41:48,549 E 30108 27204] logging.cc:415: *** Aborted at 1624174908 (unix time) try \"date -d @1624174908\" if you are using GNU date ***\n",
      "\u001b[2m\u001b[36m(pid=None)\u001b[0m [2021-06-20 09:41:48,553 E 30108 27204] logging.cc:415:     @     0x7ffd7dfe1881 raise\n"
     ]
    },
    {
     "name": "stderr",
     "output_type": "stream",
     "text": [
      "\u001b[2m\u001b[36m(pid=None)\u001b[0m [2021-06-20 09:41:48,553 E 30108 27204] logging.cc:415:     @     0x7ffd7dfe2851 abort\r\n",
      "\u001b[2m\u001b[36m(pid=None)\u001b[0m [2021-06-20 09:41:48,554 E 30108 27204] logging.cc:415:     @     0x7ff7d763ff19 public: void __cdecl google::NullStreamFatal::`vbase destructor'(void) __ptr64\r\n",
      "\u001b[2m\u001b[36m(pid=None)\u001b[0m [2021-06-20 09:41:48,554 E 30108 27204] logging.cc:415:     @     0x7ff7d763e7e1 public: virtual __cdecl google::NullStreamFatal::~NullStreamFatal(void) __ptr64\r\n",
      "\u001b[2m\u001b[36m(pid=None)\u001b[0m [2021-06-20 09:41:48,554 E 30108 27204] logging.cc:415:     @     0x7ff7d7548884 public: class google::LogMessage::LogStream * __ptr64 __cdecl google::LogMessage::LogStream::self(void)const __ptr64\r\n",
      "\u001b[2m\u001b[36m(pid=None)\u001b[0m [2021-06-20 09:41:48,554 E 30108 27204] logging.cc:415:     @     0x7ff7d75479c7 public: class google::LogMessage::LogStream * __ptr64 __cdecl google::LogMessage::LogStream::self(void)const __ptr64\r\n",
      "\u001b[2m\u001b[36m(pid=None)\u001b[0m [2021-06-20 09:41:48,554 E 30108 27204] logging.cc:415:     @     0x7ff7d7547414 public: class google::LogMessage::LogStream * __ptr64 __cdecl google::LogMessage::LogStream::self(void)const __ptr64\r\n",
      "\u001b[2m\u001b[36m(pid=None)\u001b[0m [2021-06-20 09:41:48,554 E 30108 27204] logging.cc:415:     @     0x7ff7d750201e public: class google::LogMessage::LogStream * __ptr64 __cdecl google::LogMessage::LogStream::self(void)const __ptr64\r\n",
      "\u001b[2m\u001b[36m(pid=None)\u001b[0m [2021-06-20 09:41:48,554 E 30108 27204] logging.cc:415:     @     0x7ff7d73d78ef public: class google::NullStream & __ptr64 __cdecl google::NullStream::stream(void) __ptr64\r\n",
      "\u001b[2m\u001b[36m(pid=None)\u001b[0m [2021-06-20 09:41:48,554 E 30108 27204] logging.cc:415:     @     0x7ff7d791ed30 bool __cdecl google::Demangle(char const * __ptr64,char * __ptr64,int)\r\n",
      "\u001b[2m\u001b[36m(pid=None)\u001b[0m [2021-06-20 09:41:48,555 E 30108 27204] logging.cc:415:     @     0x7ffd7e7d7034 BaseThreadInitThunk\r\n",
      "\u001b[2m\u001b[36m(pid=None)\u001b[0m [2021-06-20 09:41:48,557 E 30108 27204] logging.cc:415:     @     0x7ffd807a2651 RtlUserThreadStart\r\n"
     ]
    }
   ],
   "source": [
    "CHECKPOINT = 50\r\n",
    "#checkpoint_path = fr'C:\\Users\\34685\\Desktop\\TFG\\ray-results-cte\\trained-agents\\HumanoidBulletEnv-v0\\PPO_2021-05-31_11-37-48\\PPO_HumanoidBulletEnv-v0_dc7f8_00000_0_2021-05-31_11-37-48\\checkpoint_{CHECKPOINT}\\checkpoint-{CHECKPOINT}'\r\n",
    "#checkpoint_path = fr'C:\\Users\\34685\\Desktop\\TFG\\ray-results-cte\\trained-agents\\HumanoidBulletEnv-v0\\PPO_2021-06-02_01-31-51\\PPO_HumanoidBulletEnv-v0_8aa4e_00000_0_2021-06-02_01-31-51\\checkpoint_{CHECKPOINT}\\checkpoint-{CHECKPOINT}'\r\n",
    "checkpoint_path = r'.\\agent\\checkpoint'\r\n",
    "agent = PPOTrainer(config)\r\n",
    "agent.restore(checkpoint_path)\r\n",
    "\r\n",
    "\r\n",
    "def watch_agent(env):\r\n",
    "  state = env.reset()\r\n",
    "  rewards = []\r\n",
    "  img = plt.imshow(env.render(mode='rgb_array'))\r\n",
    "  for t in range(2000):\r\n",
    "    action=agent.compute_action(state)\r\n",
    "\r\n",
    "    img.set_data(env.render(mode='rgb_array')) \r\n",
    "    plt.axis('off')\r\n",
    "    display.display(plt.gcf())\r\n",
    "    display.clear_output(wait=True)\r\n",
    "\r\n",
    "    state, reward, done, _ = env.step(action)\r\n",
    "    rewards.append(reward)\r\n",
    "    if done:\r\n",
    "        print(\"Reward:\", sum([r for r in rewards]))\r\n",
    "        break \r\n",
    "    \r\n",
    "    input(\"next step\")\r\n",
    "\r\n",
    "watch_agent(env)\r\n"
   ]
  },
  {
   "cell_type": "code",
   "execution_count": 6,
   "metadata": {},
   "outputs": [
    {
     "data": {
      "text/plain": [
       "Box(-inf, inf, (44,), float32)"
      ]
     },
     "execution_count": 6,
     "metadata": {},
     "output_type": "execute_result"
    }
   ],
   "source": [
    "env.observation_space"
   ]
  },
  {
   "cell_type": "code",
   "execution_count": 7,
   "metadata": {},
   "outputs": [
    {
     "data": {
      "text/plain": [
       "Box(-1.0, 1.0, (17,), float32)"
      ]
     },
     "execution_count": 7,
     "metadata": {},
     "output_type": "execute_result"
    }
   ],
   "source": [
    "env.action_space"
   ]
  },
  {
   "cell_type": "code",
   "execution_count": null,
   "metadata": {},
   "outputs": [],
   "source": [
    "env.close()"
   ]
  },
  {
   "cell_type": "code",
   "execution_count": null,
   "metadata": {},
   "outputs": [],
   "source": []
  }
 ],
 "metadata": {
  "kernelspec": {
   "display_name": "Python 3.7.4 64-bit",
   "language": "python",
   "name": "python37464bit7d8f1560eda44d7483159e2196aa1f7a"
  },
  "language_info": {
   "codemirror_mode": {
    "name": "ipython",
    "version": 3
   },
   "file_extension": ".py",
   "mimetype": "text/x-python",
   "name": "python",
   "nbconvert_exporter": "python",
   "pygments_lexer": "ipython3",
   "version": "3.7.4"
  }
 },
 "nbformat": 4,
 "nbformat_minor": 2
}