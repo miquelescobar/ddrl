{
 "cells": [
  {
   "cell_type": "code",
   "execution_count": null,
   "metadata": {},
   "outputs": [],
   "source": [
    "import gym\r\n",
    "import ray\r\n",
    "from ray.rllib.agents.ppo import PPOTrainer\r\n",
    "\r\n",
    "import numpy as np\r\n",
    "from matplotlib import pyplot as plt\r\n",
    "from IPython import display"
   ]
  },
  {
   "cell_type": "code",
   "execution_count": null,
   "metadata": {},
   "outputs": [],
   "source": [
    "ray.init()"
   ]
  },
  {
   "cell_type": "code",
   "execution_count": null,
   "metadata": {},
   "outputs": [],
   "source": [
    "env = gym.make('CartPole-v1')\r\n",
    "agent = PPOTrainer(config={\"env\": 'CartPole-v1',})\r\n",
    "agent.restore(r\"C:\\Users\\34685\\Desktop\\TFG\\ray-results\\CartPole-v1\\PPO\\PPO_CartPole-v1_7e83c_00000_0_2021-04-27_14-31-30\\checkpoint_40\\checkpoint-40\")"
   ]
  },
  {
   "cell_type": "code",
   "execution_count": null,
   "metadata": {},
   "outputs": [],
   "source": [
    "def watch_agent(env):\r\n",
    "  state = env.reset()\r\n",
    "  rewards = []\r\n",
    "  img = plt.imshow(env.render(mode='rgb_array'))\r\n",
    "  for t in range(2000):\r\n",
    "    action=agent.compute_action(state)\r\n",
    "\r\n",
    "    img.set_data(env.render(mode='rgb_array')) \r\n",
    "    plt.axis('off')\r\n",
    "    display.clear_output(wait=True)\r\n",
    "    display.display(plt.gcf())\r\n",
    "\r\n",
    "    state, reward, done, _ = env.step(action)\r\n",
    "    rewards.append(reward)\r\n",
    "    if done:\r\n",
    "        print(\"Reward:\", sum([r for r in rewards]))\r\n",
    "        break \r\n",
    "  env.close()\r\n",
    "\r\n",
    "watch_agent(env)"
   ]
  },
  {
   "cell_type": "code",
   "execution_count": null,
   "metadata": {},
   "outputs": [],
   "source": [
    "ray.shutdown()"
   ]
  },
  {
   "cell_type": "code",
   "execution_count": null,
   "metadata": {},
   "outputs": [],
   "source": []
  }
 ],
 "metadata": {
  "interpreter": {
   "hash": "04635d289a519a1410467dd0afb0db42f9184808881ca68b2eb5a687a20a5a94"
  },
  "kernelspec": {
   "display_name": "Python 3.7.4 64-bit",
   "name": "python3"
  },
  "language_info": {
   "name": "python",
   "version": ""
  },
  "orig_nbformat": 2
 },
 "nbformat": 4,
 "nbformat_minor": 2
}