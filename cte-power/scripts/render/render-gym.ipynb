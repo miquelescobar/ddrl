{
 "cells": [
  {
   "cell_type": "code",
   "execution_count": 1,
   "metadata": {},
   "outputs": [
    {
     "name": "stdout",
     "output_type": "stream",
     "text": [
      "WARNING:tensorflow:From C:\\Users\\34685\\AppData\\Roaming\\Python\\Python37\\site-packages\\tensorflow\\python\\compat\\v2_compat.py:96: disable_resource_variables (from tensorflow.python.ops.variable_scope) is deprecated and will be removed in a future version.\n",
      "Instructions for updating:\n",
      "non-resource variables are not supported in the long term\n"
     ]
    }
   ],
   "source": [
    "import gym\r\n",
    "import ray\r\n",
    "from ray.rllib.agents.ppo import PPOTrainer\r\n",
    "\r\n",
    "import numpy as np\r\n",
    "from matplotlib import pyplot as plt\r\n",
    "from IPython import display"
   ]
  },
  {
   "cell_type": "code",
   "execution_count": 4,
   "metadata": {},
   "outputs": [
    {
     "name": "stderr",
     "output_type": "stream",
     "text": [
      "2021-04-27 14:36:30,335\tINFO services.py:1174 -- View the Ray dashboard at \u001b[1m\u001b[32mhttp://127.0.0.1:8265\u001b[39m\u001b[22m\n"
     ]
    },
    {
     "data": {
      "text/plain": "{'node_ip_address': '192.168.1.38',\n 'raylet_ip_address': '192.168.1.38',\n 'redis_address': '192.168.1.38:6379',\n 'object_store_address': 'tcp://127.0.0.1:65150',\n 'raylet_socket_name': 'tcp://127.0.0.1:65426',\n 'webui_url': '127.0.0.1:8265',\n 'session_dir': 'C:\\\\Users\\\\34685\\\\AppData\\\\Local\\\\Temp\\\\ray\\\\session_2021-04-27_14-36-29_807473_24008',\n 'metrics_export_port': 65126,\n 'node_id': 'd328d0c5cd6b3a73904d04d4247f6d1fe9e70a7d73b47c5aa7d72816'}"
     },
     "execution_count": 4,
     "metadata": {},
     "output_type": "execute_result"
    }
   ],
   "source": [
    "ray.init()"
   ]
  },
  {
   "cell_type": "code",
   "execution_count": 5,
   "metadata": {},
   "outputs": [
    {
     "name": "stderr",
     "output_type": "stream",
     "text": [
      "\u001b[2m\u001b[36m(pid=22460)\u001b[0m WARNING:tensorflow:From C:\\Users\\34685\\AppData\\Roaming\\Python\\Python37\\site-packages\\tensorflow\\python\\compat\\v2_compat.py:96: disable_resource_variables (from tensorflow.python.ops.variable_scope) is deprecated and will be removed in a future version.\n",
      "\u001b[2m\u001b[36m(pid=22460)\u001b[0m Instructions for updating:\n",
      "\u001b[2m\u001b[36m(pid=22460)\u001b[0m non-resource variables are not supported in the long term\n",
      "\u001b[2m\u001b[36m(pid=2408)\u001b[0m WARNING:tensorflow:From C:\\Users\\34685\\AppData\\Roaming\\Python\\Python37\\site-packages\\tensorflow\\python\\compat\\v2_compat.py:96: disable_resource_variables (from tensorflow.python.ops.variable_scope) is deprecated and will be removed in a future version.\n",
      "\u001b[2m\u001b[36m(pid=2408)\u001b[0m Instructions for updating:\n",
      "\u001b[2m\u001b[36m(pid=2408)\u001b[0m non-resource variables are not supported in the long term\n",
      "\u001b[2m\u001b[36m(pid=22460)\u001b[0m 2021-04-27 14:36:48,506\tWARNING deprecation.py:34 -- DeprecationWarning: `framestack` has been deprecated. Use `num_framestacks (int)` instead. This will raise an error in the future!\n",
      "\u001b[2m\u001b[36m(pid=2408)\u001b[0m 2021-04-27 14:36:48,506\tWARNING deprecation.py:34 -- DeprecationWarning: `framestack` has been deprecated. Use `num_framestacks (int)` instead. This will raise an error in the future!\n",
      "2021-04-27 14:36:49,624\tWARNING deprecation.py:34 -- DeprecationWarning: `framestack` has been deprecated. Use `num_framestacks (int)` instead. This will raise an error in the future!\n",
      "2021-04-27 14:36:52,087\tWARNING util.py:47 -- Install gputil for GPU system monitoring.\n",
      "2021-04-27 14:36:52,210\tINFO trainable.py:372 -- Restored on 192.168.1.38 from checkpoint: C:\\Users\\34685\\Desktop\\TFG\\ray-results\\CartPole-v1\\PPO\\PPO_CartPole-v1_7e83c_00000_0_2021-04-27_14-31-30\\checkpoint_40\\checkpoint-40\n",
      "2021-04-27 14:36:52,211\tINFO trainable.py:379 -- Current state after restoring: {'_iteration': 40, '_timesteps_total': None, '_time_total': 188.7766935825348, '_episodes_total': 615}\n"
     ]
    }
   ],
   "source": [
    "env = gym.make('CartPole-v1')\r\n",
    "agent = PPOTrainer(config={\"env\": 'CartPole-v1',})\r\n",
    "agent.restore(r\"C:\\Users\\34685\\Desktop\\TFG\\ray-results\\CartPole-v1\\PPO\\PPO_CartPole-v1_7e83c_00000_0_2021-04-27_14-31-30\\checkpoint_40\\checkpoint-40\")"
   ]
  },
  {
   "cell_type": "code",
   "execution_count": 6,
   "metadata": {},
   "outputs": [
    {
     "data": {
      "image/png": "[encoded data removed]",
      "text/plain": "<Figure size 432x288 with 1 Axes>"
     },
     "metadata": {},
     "output_type": "display_data"
    },
    {
     "name": "stdout",
     "output_type": "stream",
     "text": [
      "Reward: 500.0\n"
     ]
    },
    {
     "data": {
      "image/png": "[encoded data removed]",
      "text/plain": "<Figure size 432x288 with 1 Axes>"
     },
     "metadata": {
      "needs_background": "light"
     },
     "output_type": "display_data"
    }
   ],
   "source": [
    "def watch_agent(env):\r\n",
    "  state = env.reset()\r\n",
    "  rewards = []\r\n",
    "  img = plt.imshow(env.render(mode='rgb_array'))\r\n",
    "  for t in range(2000):\r\n",
    "    action=agent.compute_action(state)\r\n",
    "\r\n",
    "    img.set_data(env.render(mode='rgb_array')) \r\n",
    "    plt.axis('off')\r\n",
    "    display.clear_output(wait=True)\r\n",
    "    display.display(plt.gcf())\r\n",
    "\r\n",
    "    state, reward, done, _ = env.step(action)\r\n",
    "    rewards.append(reward)\r\n",
    "    if done:\r\n",
    "        print(\"Reward:\", sum([r for r in rewards]))\r\n",
    "        break \r\n",
    "  env.close()\r\n",
    "\r\n",
    "watch_agent(env)"
   ]
  },
  {
   "cell_type": "code",
   "execution_count": 7,
   "metadata": {},
   "outputs": [],
   "source": [
    "ray.shutdown()"
   ]
  },
  {
   "cell_type": "code",
   "execution_count": null,
   "metadata": {},
   "outputs": [],
   "source": []
  }
 ],
 "metadata": {
  "kernelspec": {
   "display_name": "Python 3.7.4 64-bit",
   "name": "python374jvsc74a57bd004635d289a519a1410467dd0afb0db42f9184808881ca68b2eb5a687a20a5a94"
  },
  "language_info": {
   "codemirror_mode": {
    "name": "ipython",
    "version": 3
   },
   "file_extension": ".py",
   "mimetype": "text/x-python",
   "name": "python",
   "nbconvert_exporter": "python",
   "pygments_lexer": "ipython3",
   "version": "3.7.4"
  },
  "orig_nbformat": 2
 },
 "nbformat": 4,
 "nbformat_minor": 2
}