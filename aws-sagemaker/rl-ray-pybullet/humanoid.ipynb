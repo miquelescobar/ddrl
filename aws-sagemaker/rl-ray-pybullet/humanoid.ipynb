{
 "cells": [
  {
   "cell_type": "markdown",
   "metadata": {},
   "source": [
    "# PyBullet Humanoid with Amazon SageMaker\n",
    "\n",
    "---\n",
    "## Introduction\n",
    "\n",
    "PyBullet is an [open source](https://pybullet.org/wordpress/) physics simulator that is commonly used to train RL policies for simulated robotic systems.  PyBullety provides 3D visualization of physical systems with multiple joints in contact with each other and their environment.\n",
    "\n",
    "In this notebook we install PyBullet into the SageMaker RL container (see the Dockerfile), and send training jobs of RL algorithms of the RLlib library."
   ]
  },
  {
   "cell_type": "code",
   "execution_count": 1,
   "metadata": {},
   "outputs": [],
   "source": [
    "env = \"HumanoidBulletEnv-v0\""
   ]
  },
  {
   "cell_type": "markdown",
   "metadata": {},
   "source": [
    "## Imports\n",
    "\n",
    "To get started, we'll import the Python libraries we need, set up the environment with a few prerequisites for permissions and configurations."
   ]
  },
  {
   "cell_type": "code",
   "execution_count": 4,
   "metadata": {
    "scrolled": true
   },
   "outputs": [],
   "source": [
    "import sagemaker\n",
    "import boto3\n",
    "import sys\n",
    "import os\n",
    "import glob\n",
    "import re\n",
    "import subprocess\n",
    "import numpy as np\n",
    "from IPython.display import HTML\n",
    "import time\n",
    "from time import gmtime, strftime\n",
    "\n",
    "sys.path.append(\"common\")\n",
    "from misc import (\n",
    "    get_execution_role,\n",
    "    wait_for_s3_object\n",
    ")\n",
    "from common.docker_utils import (\n",
    "    build_and_push_docker_image\n",
    ")\n",
    "from sagemaker.rl import (\n",
    "    RLEstimator,\n",
    "    RLToolkit,\n",
    "    RLFramework\n",
    ")"
   ]
  },
  {
   "cell_type": "markdown",
   "metadata": {},
   "source": [
    "IMPORTANT: to continue, setup the AWS credentials follwing https://docs.aws.amazon.com/sdk-for-java/v1/developer-guide/setup-credentials.html"
   ]
  },
  {
   "cell_type": "code",
   "execution_count": 10,
   "metadata": {},
   "outputs": [],
   "source": [
    "os.environ['AWS_ACCESS_KEY_ID'] = #\n",
    "os.environ['AWS_SECRET_ACCESS_KEY'] = #\n",
    "os.environ['AWS_REGION'] = #"
   ]
  },
  {
   "cell_type": "markdown",
   "metadata": {},
   "source": [
    "### Setup S3 bucket\n",
    "\n",
    "Set up the linkage and authentication to the S3 bucket that you want to use for checkpoint and the metadata. "
   ]
  },
  {
   "cell_type": "code",
   "execution_count": 12,
   "metadata": {},
   "outputs": [
    {
     "name": "stdout",
     "output_type": "stream",
     "text": [
      "S3 bucket path: s3://sagemaker-us-west-2-565870655207/\n"
     ]
    }
   ],
   "source": [
    "sage_session = sagemaker.session.Session()\n",
    "s3_bucket = sage_session.default_bucket()\n",
    "s3_output_path = \"s3://{}/\".format(s3_bucket)\n",
    "print(\"S3 bucket path: {}\".format(s3_output_path))"
   ]
  },
  {
   "cell_type": "markdown",
   "metadata": {},
   "source": [
    "### Define Variables \n",
    "\n",
    "We define variables such as the job prefix for the training jobs"
   ]
  },
  {
   "cell_type": "code",
   "execution_count": 22,
   "metadata": {},
   "outputs": [],
   "source": [
    "job_name_prefix = \"rl-humanoid-bullet\""
   ]
  },
  {
   "cell_type": "markdown",
   "metadata": {},
   "source": [
    "### Configure instance type\n",
    "\n",
    "There are multiple instance types to run RL training jobs in SageMaker. See https://aws.amazon.com/sagemaker/pricing/?nc1=h_ls."
   ]
  },
  {
   "cell_type": "code",
   "execution_count": 14,
   "metadata": {},
   "outputs": [],
   "source": [
    "instance_type = \"ml.c5.9xlarge\""
   ]
  },
  {
   "cell_type": "markdown",
   "metadata": {},
   "source": [
    "### Create an IAM role\n",
    "\n",
    "Either get the execution role when running from a SageMaker notebook instance `role = sagemaker.get_execution_role()` or, when running from local notebook instance, use utils method `role = get_execution_role()` to create an execution role."
   ]
  },
  {
   "cell_type": "code",
   "execution_count": 15,
   "metadata": {},
   "outputs": [
    {
     "name": "stderr",
     "output_type": "stream",
     "text": [
      "Couldn't call 'get_role' to get Role ARN from role name miquelescobar to get Role path.\n"
     ]
    },
    {
     "name": "stdout",
     "output_type": "stream",
     "text": [
      "Created new sagemaker execution role: sagemaker\n",
      "Using IAM role arn: arn:aws:iam::565870655207:role/sagemaker\n"
     ]
    }
   ],
   "source": [
    "try:\n",
    "    role = sagemaker.get_execution_role()\n",
    "except:\n",
    "    role = get_execution_role()\n",
    "\n",
    "print(\"Using IAM role arn: {}\".format(role))"
   ]
  },
  {
   "cell_type": "markdown",
   "metadata": {},
   "source": [
    "### Install docker for `local` mode\n",
    "\n",
    "In order to work in `local` mode, you need to have docker installed. When running from you local machine, please make sure that you have docker and docker-compose (for local CPU machines) and nvidia-docker (for local GPU machines) installed. Alternatively, when running from a SageMaker notebook instance, you can simply run the following script to install dependenceis.\n",
    "\n",
    "Note, you can only run a single local notebook at one time."
   ]
  },
  {
   "cell_type": "code",
   "execution_count": 16,
   "metadata": {},
   "outputs": [],
   "source": [
    "# only run from SageMaker notebook instance\n",
    "if local_mode:\n",
    "    !/bin/bash ./common/setup.sh"
   ]
  },
  {
   "cell_type": "markdown",
   "metadata": {},
   "source": [
    "## Build docker container\n",
    "\n",
    "We must build a custom docker container with Ray, TensorFlow and PyBullet installed.  This takes care of everything:\n",
    "\n",
    "1. Fetching base container image\n",
    "2. Installing PyBullet and its dependencies\n",
    "3. Uploading the new container image to ECR\n",
    "\n",
    "This step can take a long time.\n"
   ]
  },
  {
   "cell_type": "code",
   "execution_count": 14,
   "metadata": {
    "scrolled": false
   },
   "outputs": [
    {
     "name": "stdout",
     "output_type": "stream",
     "text": [
      "WARNING! Using --password via the CLI is insecure. Use --password-stdin.\n",
      "WARNING! Your password will be stored unencrypted in /home/ec2-user/.docker/config.json.\n",
      "Configure a credential helper to remove this warning. See\n",
      "https://docs.docker.com/engine/reference/commandline/login/#credentials-store\n",
      "\n",
      "Login Succeeded\n",
      "Logged into ECR\n",
      "Building docker image sagemaker-bullet-ray-cpu from Dockerfile\n",
      "$ docker build -t sagemaker-bullet-ray-cpu -f Dockerfile . --build-arg CPU_OR_GPU=cpu --build-arg AWS_REGION=us-west-2\n",
      "Sending build context to Docker daemon    576kB\n",
      "Step 1/14 : ARG CPU_OR_GPU\n",
      "Step 2/14 : ARG AWS_REGION\n",
      "Step 3/14 : FROM 462105765813.dkr.ecr.${AWS_REGION}.amazonaws.com/sagemaker-rl-ray-container:ray-0.8.2-tf-${CPU_OR_GPU}-py36\n",
      " ---> 24e9d976c4b2\n",
      "Step 4/14 : WORKDIR /opt/ml\n",
      " ---> Using cache\n",
      " ---> e757479553a9\n",
      "Step 5/14 : RUN apt-get update && apt-get install -y       git cmake ffmpeg pkg-config       qtbase5-dev libqt5opengl5-dev libassimp-dev       libtinyxml-dev       libgl1-mesa-dev     && cd /opt     && apt-get clean && rm -rf /var/cache/apt/archives/* /var/lib/apt/lists/*\n",
      " ---> Using cache\n",
      " ---> 3e406268b352\n",
      "Step 6/14 : RUN apt-get update &&     apt-get install -y libboost-python-dev\n",
      " ---> Using cache\n",
      " ---> 1f34a5bc6e74\n",
      "Step 7/14 : RUN apt-get update     && apt-get install -y --no-install-recommends python3.6-dev     && ln -s -f /usr/bin/python3.6 /usr/bin/python     && apt-get clean     && rm -rf /var/cache/apt/archives/* /var/lib/apt/lists/*\n",
      " ---> Using cache\n",
      " ---> 8dd41ea63bce\n",
      "Step 8/14 : RUN curl -fSsL -O https://bootstrap.pypa.io/get-pip.py &&     python get-pip.py &&     rm get-pip.py\n",
      " ---> Using cache\n",
      " ---> f3ff08fe7eb4\n",
      "Step 9/14 : RUN pip install --upgrade     pip     setuptools     setproctitle     lz4     psutil\n",
      " ---> Using cache\n",
      " ---> c797fe5d885f\n",
      "Step 10/14 : RUN pip install sagemaker-tensorflow-training==20.1.4\n",
      " ---> Using cache\n",
      " ---> 3dcf8216a732\n",
      "Step 11/14 : RUN pip install pybullet==3.1.7\n",
      " ---> Using cache\n",
      " ---> e23422554f12\n",
      "Step 12/14 : ENV PYTHONUNBUFFERED 1\n",
      " ---> Using cache\n",
      " ---> 2860293bfc48\n",
      "Step 13/14 : RUN python -c \"import gym;import sagemaker_containers.cli.train;import pybullet_envs; import ray; from sagemaker_containers.cli.train import main\"\n",
      " ---> Using cache\n",
      " ---> 3b3f93dc8069\n",
      "Step 14/14 : WORKDIR /opt/ml/code\n",
      " ---> Using cache\n",
      " ---> b3ef6dfc7eb5\n",
      "Successfully built b3ef6dfc7eb5\n",
      "Successfully tagged sagemaker-bullet-ray-cpu:latest\n",
      "Done building docker image sagemaker-bullet-ray-cpu\n",
      "ECR repository already exists: sagemaker-bullet-ray-cpu\n",
      "WARNING! Using --password via the CLI is insecure. Use --password-stdin.\n",
      "WARNING! Your password will be stored unencrypted in /home/ec2-user/.docker/config.json.\n",
      "Configure a credential helper to remove this warning. See\n",
      "https://docs.docker.com/engine/reference/commandline/login/#credentials-store\n",
      "\n",
      "Login Succeeded\n",
      "Logged into ECR\n",
      "$ docker tag sagemaker-bullet-ray-cpu 565870655207.dkr.ecr.us-west-2.amazonaws.com/sagemaker-bullet-ray-cpu\n",
      "Pushing docker image to ECR repository 565870655207.dkr.ecr.us-west-2.amazonaws.com/sagemaker-bullet-ray-cpu\n",
      "\n",
      "$ docker push 565870655207.dkr.ecr.us-west-2.amazonaws.com/sagemaker-bullet-ray-cpu\n",
      "The push refers to repository [565870655207.dkr.ecr.us-west-2.amazonaws.com/sagemaker-bullet-ray-cpu]\n",
      "fe81766465f7: Preparing\n",
      "090694e1422c: Preparing\n",
      "4ebd2f274a9d: Preparing\n",
      "91bf7c59479b: Preparing\n",
      "98f522038129: Preparing\n",
      "c805bb3e52d8: Preparing\n",
      "a27df04da094: Preparing\n",
      "e31998d73a3f: Preparing\n",
      "d682e8fc5fc1: Preparing\n",
      "ce45afacb058: Preparing\n",
      "ead502f61809: Preparing\n",
      "cba64e552037: Preparing\n",
      "90fa3ca97658: Preparing\n",
      "cec88cebed82: Preparing\n",
      "a9f367d23c9e: Preparing\n",
      "10018c803ce7: Preparing\n",
      "e4020b197b08: Preparing\n",
      "3fa3bcd9e4f8: Preparing\n",
      "b41ed27bdf23: Preparing\n",
      "71c747a735ee: Preparing\n",
      "e3de265b4a07: Preparing\n",
      "cd2daf664231: Preparing\n",
      "d36e9474ac8d: Preparing\n",
      "e54e6c789bd1: Preparing\n",
      "652465d5ffd1: Preparing\n",
      "3207e37f97cc: Preparing\n",
      "501f027e9b6c: Preparing\n",
      "16542a8fc3be: Preparing\n",
      "6597da2e2e52: Preparing\n",
      "977183d4e999: Preparing\n",
      "c8be1b8f4d60: Preparing\n",
      "ead502f61809: Waiting\n",
      "cba64e552037: Waiting\n",
      "90fa3ca97658: Waiting\n",
      "cec88cebed82: Waiting\n",
      "a9f367d23c9e: Waiting\n",
      "10018c803ce7: Waiting\n",
      "e4020b197b08: Waiting\n",
      "3fa3bcd9e4f8: Waiting\n",
      "b41ed27bdf23: Waiting\n",
      "71c747a735ee: Waiting\n",
      "e3de265b4a07: Waiting\n",
      "cd2daf664231: Waiting\n",
      "d36e9474ac8d: Waiting\n",
      "e54e6c789bd1: Waiting\n",
      "652465d5ffd1: Waiting\n",
      "3207e37f97cc: Waiting\n",
      "501f027e9b6c: Waiting\n",
      "16542a8fc3be: Waiting\n",
      "6597da2e2e52: Waiting\n",
      "977183d4e999: Waiting\n",
      "c8be1b8f4d60: Waiting\n",
      "c805bb3e52d8: Waiting\n",
      "a27df04da094: Waiting\n",
      "e31998d73a3f: Waiting\n",
      "d682e8fc5fc1: Waiting\n",
      "ce45afacb058: Waiting\n",
      "4ebd2f274a9d: Layer already exists\n",
      "98f522038129: Layer already exists\n",
      "fe81766465f7: Layer already exists\n",
      "090694e1422c: Layer already exists\n",
      "91bf7c59479b: Layer already exists\n",
      "c805bb3e52d8: Layer already exists\n",
      "e31998d73a3f: Layer already exists\n",
      "d682e8fc5fc1: Layer already exists\n",
      "ce45afacb058: Layer already exists\n",
      "ead502f61809: Layer already exists\n",
      "cba64e552037: Layer already exists\n",
      "90fa3ca97658: Layer already exists\n",
      "cec88cebed82: Layer already exists\n",
      "a9f367d23c9e: Layer already exists\n",
      "10018c803ce7: Layer already exists\n",
      "3fa3bcd9e4f8: Layer already exists\n",
      "e4020b197b08: Layer already exists\n",
      "71c747a735ee: Layer already exists\n",
      "e3de265b4a07: Layer already exists\n",
      "cd2daf664231: Layer already exists\n",
      "d36e9474ac8d: Layer already exists\n",
      "652465d5ffd1: Layer already exists\n",
      "e54e6c789bd1: Layer already exists\n",
      "3207e37f97cc: Layer already exists\n",
      "16542a8fc3be: Layer already exists\n",
      "6597da2e2e52: Layer already exists\n",
      "c8be1b8f4d60: Layer already exists\n",
      "977183d4e999: Layer already exists\n",
      "a27df04da094: Pushed\n",
      "501f027e9b6c: Pushed\n",
      "b41ed27bdf23: Pushed\n",
      "latest: digest: sha256:3ddc64bc93ba651a579f9912e4a9d5d6550e5d8abaa6f44847e8db267f61f78e size: 6812\n",
      "Done pushing 565870655207.dkr.ecr.us-west-2.amazonaws.com/sagemaker-bullet-ray-cpu\n",
      "Using ECR image 565870655207.dkr.ecr.us-west-2.amazonaws.com/sagemaker-bullet-ray-cpu\n",
      "CPU times: user 143 ms, sys: 23.5 ms, total: 166 ms\n",
      "Wall time: 3min 13s\n"
     ]
    }
   ],
   "source": [
    "%%time\n",
    "\n",
    "cpu_or_gpu = \"gpu\" if instance_type.startswith(\"ml.p\") else \"cpu\"\n",
    "repository_short_name = \"sagemaker-bullet-ray-%s\" % cpu_or_gpu\n",
    "docker_build_args = {\n",
    "    \"CPU_OR_GPU\": cpu_or_gpu,\n",
    "    \"AWS_REGION\": boto3.Session().region_name,\n",
    "}\n",
    "custom_image_name = build_and_push_docker_image(repository_short_name, build_args=docker_build_args)\n",
    "print(\"Using ECR image %s\" % custom_image_name)"
   ]
  },
  {
   "cell_type": "markdown",
   "metadata": {},
   "source": [
    "## Training\n",
    "\n",
    "The training code in the /src directory. "
   ]
  },
  {
   "cell_type": "code",
   "execution_count": 21,
   "metadata": {},
   "outputs": [
    {
     "name": "stdout",
     "output_type": "stream",
     "text": [
      "import json\n",
      "import os\n",
      "\n",
      "import gym\n",
      "import ray\n",
      "import pybullet_envs\n",
      "from ray.tune import run_experiments\n",
      "from ray.tune.registry import register_env\n",
      "from sagemaker_rl.ray_launcher import SageMakerRayLauncher\n",
      "\n",
      "\n",
      "def create_environment(env_config):\n",
      "    # This import must happen inside the method so that worker processes import this code\n",
      "    import roboschool\n",
      "\n",
      "    return gym.make(\"HumanoidBulletEnv-v0\")\n",
      "\n",
      "\n",
      "class MyLauncher(SageMakerRayLauncher):\n",
      "    def register_env_creator(self):\n",
      "        register_env(\"HumanoidBulletEnv-v0\", create_environment)\n",
      "\n",
      "    def get_experiment_config(self):\n",
      "        return {\n",
      "            \"training\": {\n",
      "                \"env\": \"HumanoidBulletEnv-v0\",\n",
      "                \"run\": \"PPO\",\n",
      "                \"stop\": {\n",
      "                    \"episode_reward_mean\": 2500,\n",
      "                },\n",
      "                \"config\": {\n",
      "                    \"gamma\": 0.99,\n",
      "                    \"kl_coeff\": 1.0,\n",
      "                    \"lr\": 0.0001,\n",
      "                    \"monitor\": True, \n",
      "                    \n",
      "                    \"num_workers\": (self.num_cpus - 1),\n",
      "                    \"num_gpus\": self.num_gpus,\n",
      "                },\n",
      "            }\n",
      "        }\n",
      "\n",
      "\n",
      "if __name__ == \"__main__\":\n",
      "    MyLauncher().train_main()\n"
     ]
    }
   ],
   "source": [
    "!pygmentize src/train-humanoid-ppo.py"
   ]
  },
  {
   "cell_type": "markdown",
   "metadata": {},
   "source": [
    "## Train the RL model using the Python SDK Script mode\n",
    "\n",
    "When using SageMaker for training, you can select a GPU or CPU instance. The RLEstimator is used for training RL jobs. The follwoing steps must be made:\n",
    "\n",
    "1. Specify the source directory where the environment, presets and training code is uploaded.\n",
    "2. Specify the entry point as the training code \n",
    "3. Specify the choice of RL toolkit and framework. This automatically resolves to the ECR path for the RL Container. \n",
    "4. Define the training parameters such as the instance count, job name, S3 path for output and job name. \n",
    "5. Specify the hyperparameters for the RL agent algorithm. The RLCOACH_PRESET or the RLRAY_PRESET can be used to specify the RL agent algorithm you want to use. \n",
    "6. Define the metrics definitions that you are interested in capturing in your logs. These can also be visualized in CloudWatch and SageMaker Notebooks. "
   ]
  },
  {
   "cell_type": "code",
   "execution_count": 19,
   "metadata": {
    "scrolled": true
   },
   "outputs": [
    {
     "name": "stdout",
     "output_type": "stream",
     "text": [
      "Training job: rl-humanoid-bullet-ppo\n",
      "Wall time: 3.34 s\n"
     ]
    }
   ],
   "source": [
    "%%time\n",
    "\n",
    "ALG = 'ppo'\n",
    "\n",
    "metric_definitions = RLEstimator.default_metric_definitions(RLToolkit.RAY)\n",
    "int_regex = '[0-9]+'\n",
    "float_regex = \"[-+]?[0-9]*[.]?[0-9]+([eE][-+]?[0-9]+)?\"  # noqa: W605, E501\n",
    "metric_definitions.append( {\"Name\": \"timesteps_total\", \"Regex\": \"timesteps_total: (%s)\" % int_regex} )\n",
    "metric_definitions.append( {\"Name\": \"time_this_iter_s\", \"Regex\": \"time_this_iter_s: (%s)\" % float_regex} )\n",
    "\n",
    "custom_image_name = \"565870655207.dkr.ecr.us-west-2.amazonaws.com/sagemaker-bullet-ray-cpu:latest\"\n",
    "\n",
    "\n",
    "\n",
    "estimator = RLEstimator(\n",
    "    entry_point=\"train-%s.py\" % f\"humanoid-{ALG}\",\n",
    "    source_dir=\"src\",\n",
    "    dependencies=[\"common/sagemaker_rl\"],\n",
    "    image_uri=custom_image_name,\n",
    "    role=role,\n",
    "    instance_type=instance_type,\n",
    "    instance_count=1,\n",
    "    output_path=s3_output_path,\n",
    "    base_job_name=job_name_prefix+'-'+ALG,\n",
    "    metric_definitions=metric_definitions,\n",
    "    hyperparameters={\n",
    "    },\n",
    ")\n",
    "\n",
    "estimator.fit(wait=local_mode)\n",
    "job_name = estimator.latest_training_job.job_name\n",
    "print(\"Training job: %s\" % job_name)"
   ]
  },
  {
   "cell_type": "markdown",
   "metadata": {},
   "source": [
    "## Visualization\n",
    "\n",
    "RL training can take a long time.  So while it's running there are a variety of ways we can track progress of the running training job.  Some intermediate output gets saved to S3 during training, so we'll set up to capture that."
   ]
  },
  {
   "cell_type": "code",
   "execution_count": null,
   "metadata": {},
   "outputs": [],
   "source": [
    "print(\"Job name: {}\".format(job_name))\n",
    "\n",
    "s3_url = \"s3://{}/{}\".format(s3_bucket, job_name)\n",
    "\n",
    "intermediate_folder_key = \"{}/output/intermediate/\".format(job_name)\n",
    "intermediate_url = \"s3://{}/{}\".format(s3_bucket, intermediate_folder_key)\n",
    "\n",
    "print(\"S3 job path: {}\".format(s3_url))\n",
    "print(\"Intermediate folder path: {}\".format(intermediate_url))\n",
    "\n",
    "tmp_dir = \"/tmp/{}\".format(job_name)\n",
    "os.system(\"mkdir {}\".format(tmp_dir))\n",
    "print(\"Create local folder {}\".format(tmp_dir))"
   ]
  },
  {
   "cell_type": "markdown",
   "metadata": {},
   "source": [
    "### Fetch videos of training \n",
    "Videos of certain rollouts get written to S3 during training.  Here we fetch the last 10 videos from S3, and render the last one."
   ]
  },
  {
   "cell_type": "code",
   "execution_count": null,
   "metadata": {},
   "outputs": [],
   "source": [
    "recent_videos = wait_for_s3_object(\n",
    "    s3_bucket,\n",
    "    intermediate_folder_key,\n",
    "    tmp_dir,\n",
    "    fetch_only=(lambda obj: obj.key.endswith(\".mp4\") and obj.size > 0),\n",
    "    limit=10,\n",
    "    training_job_name=job_name,\n",
    ")"
   ]
  },
  {
   "cell_type": "code",
   "execution_count": null,
   "metadata": {},
   "outputs": [],
   "source": [
    "last_video = sorted(recent_videos)[-1]  # Pick which video to watch\n",
    "os.system(\"mkdir -p ./src/tmp_render/ && cp {} ./src/tmp_render/last_video.mp4\".format(last_video))\n",
    "HTML('<video src=\"./src/tmp_render/last_video.mp4\" controls autoplay></video>')"
   ]
  },
  {
   "cell_type": "markdown",
   "metadata": {},
   "source": [
    "### Plot metrics for training job\n",
    "We can see the reward metric of the training as it's running, using algorithm metrics that are recorded in CloudWatch metrics.  We can plot this to see the performance of the model over time."
   ]
  },
  {
   "cell_type": "code",
   "execution_count": null,
   "metadata": {},
   "outputs": [],
   "source": [
    "%matplotlib inline\n",
    "from sagemaker.analytics import TrainingJobAnalytics\n",
    "\n",
    "if not local_mode:\n",
    "    df = TrainingJobAnalytics(job_name, [\"episode_reward_mean\"]).dataframe()\n",
    "    num_metrics = len(df)\n",
    "    if num_metrics == 0:\n",
    "        print(\"No algorithm metrics found in CloudWatch\")\n",
    "    else:\n",
    "        plt = df.plot(x=\"timestamp\", y=\"value\", figsize=(12, 5), legend=True, style=\"b-\")\n",
    "        plt.set_ylabel(\"Mean reward per episode\")\n",
    "        plt.set_xlabel(\"Training time (s)\")\n",
    "else:\n",
    "    print(\"Can't plot metrics in local mode.\")"
   ]
  },
  {
   "cell_type": "markdown",
   "metadata": {},
   "source": [
    "### Monitor training progress\n",
    "You can repeatedly run the visualization cells to get the latest videos or see the latest metrics as the training job proceeds."
   ]
  },
  {
   "cell_type": "markdown",
   "metadata": {},
   "source": [
    "## Evaluation of RL models\n",
    "\n",
    "We use the last checkpointed model to run evaluation for the RL Agent. \n",
    "\n",
    "### Load checkpointed model\n",
    "\n",
    "Checkpointed data from the previously trained models will be passed on for evaluation / inference in the checkpoint channel. In local mode, we can simply use the local directory, whereas in the SageMaker mode, it needs to be moved to S3 first."
   ]
  },
  {
   "cell_type": "code",
   "execution_count": null,
   "metadata": {},
   "outputs": [],
   "source": [
    "if local_mode:\n",
    "    model_tar_key = \"{}/model.tar.gz\".format(job_name)\n",
    "else:\n",
    "    model_tar_key = \"{}/output/model.tar.gz\".format(job_name)\n",
    "\n",
    "local_checkpoint_dir = \"{}/model\".format(tmp_dir)\n",
    "\n",
    "wait_for_s3_object(s3_bucket, model_tar_key, tmp_dir, training_job_name=job_name)\n",
    "\n",
    "if not os.path.isfile(\"{}/model.tar.gz\".format(tmp_dir)):\n",
    "    raise FileNotFoundError(\"File model.tar.gz not found\")\n",
    "\n",
    "os.system(\"mkdir -p {}\".format(local_checkpoint_dir))\n",
    "os.system(\"tar -xvzf {}/model.tar.gz -C {}\".format(tmp_dir, local_checkpoint_dir))\n",
    "\n",
    "print(\"Checkpoint directory {}\".format(local_checkpoint_dir))"
   ]
  },
  {
   "cell_type": "code",
   "execution_count": null,
   "metadata": {},
   "outputs": [],
   "source": [
    "if local_mode:\n",
    "    checkpoint_path = \"file://{}\".format(local_checkpoint_dir)\n",
    "    print(\"Local checkpoint file path: {}\".format(local_checkpoint_dir))\n",
    "else:\n",
    "    checkpoint_path = \"s3://{}/{}/checkpoint/\".format(s3_bucket, job_name)\n",
    "    if not os.listdir(local_checkpoint_dir):\n",
    "        raise FileNotFoundError(\"Checkpoint files not found under the path\")\n",
    "    os.system(\"aws s3 cp --recursive {} {}\".format(local_checkpoint_dir, checkpoint_path))\n",
    "    print(\"S3 checkpoint file path: {}\".format(checkpoint_path))"
   ]
  },
  {
   "cell_type": "code",
   "execution_count": null,
   "metadata": {
    "scrolled": true
   },
   "outputs": [],
   "source": [
    "%%time\n",
    "\n",
    "estimator_eval = RLEstimator(\n",
    "    entry_point=\"evaluate-ray.py\",\n",
    "    source_dir=\"src\",\n",
    "    dependencies=[\"common/sagemaker_rl\"],\n",
    "    image_uri=custom_image_name,\n",
    "    role=role,\n",
    "    instance_type=instance_type,\n",
    "    instance_count=1,\n",
    "    base_job_name=job_name_prefix + \"-evaluation\",\n",
    "    hyperparameters={\n",
    "        \"evaluate_episodes\": 5,\n",
    "        \"algorithm\": \"PPO\",\n",
    "        \"env\":env,\n",
    "    },\n",
    ")\n",
    "\n",
    "estimator_eval.fit({\"model\": checkpoint_path})\n",
    "job_name = estimator_eval.latest_training_job.job_name\n",
    "print(\"Evaluation job: %s\" % job_name)"
   ]
  },
  {
   "cell_type": "markdown",
   "metadata": {},
   "source": [
    "### Visualize the output \n",
    "\n",
    "Optionally, you can run the steps defined earlier to visualize the output."
   ]
  },
  {
   "cell_type": "markdown",
   "metadata": {},
   "source": [
    "# Model deployment\n",
    "\n",
    "Now let us deploy the RL policy so that we can get the optimal action, given an environment observation."
   ]
  },
  {
   "cell_type": "code",
   "execution_count": null,
   "metadata": {},
   "outputs": [],
   "source": [
    "from sagemaker.tensorflow.model import TensorFlowModel\n",
    "\n",
    "model = TensorFlowModel(model_data=estimator.model_data, framework_version=\"2.1.0\", role=role)\n",
    "\n",
    "predictor = model.deploy(initial_instance_count=1, instance_type=instance_type)"
   ]
  },
  {
   "cell_type": "code",
   "execution_count": null,
   "metadata": {},
   "outputs": [],
   "source": [
    "# Mapping of environments to observation space\n",
    "observation_space_mapping = {\"reacher\": 9, \"hopper\": 15, \"humanoid\": 44}"
   ]
  },
  {
   "cell_type": "markdown",
   "metadata": {},
   "source": [
    "Now let us predict the actions using a dummy observation"
   ]
  },
  {
   "cell_type": "code",
   "execution_count": null,
   "metadata": {},
   "outputs": [],
   "source": [
    "# ray 0.8.2 requires all the following inputs\n",
    "# 'prev_action', 'is_training', 'prev_reward' and 'seq_lens' are placeholders for this example\n",
    "# they won't affect prediction results\n",
    "\n",
    "input = {\n",
    "    \"inputs\": {\n",
    "        \"observations\": np.ones(shape=(1, observation_space_mapping[roboschool_problem])).tolist(),\n",
    "        \"prev_action\": [0, 0],\n",
    "        \"is_training\": False,\n",
    "        \"prev_reward\": -1,\n",
    "        \"seq_lens\": -1,\n",
    "    }\n",
    "}"
   ]
  },
  {
   "cell_type": "code",
   "execution_count": null,
   "metadata": {},
   "outputs": [],
   "source": [
    "result = predictor.predict(input)\n",
    "\n",
    "result[\"outputs\"][\"actions\"]"
   ]
  },
  {
   "cell_type": "markdown",
   "metadata": {},
   "source": [
    "### Clean up endpoint"
   ]
  },
  {
   "cell_type": "code",
   "execution_count": null,
   "metadata": {},
   "outputs": [],
   "source": [
    "predictor.delete_endpoint()"
   ]
  }
 ],
 "metadata": {
  "anaconda-cloud": {},
  "kernelspec": {
   "display_name": "Python 3.7.4 64-bit",
   "language": "python",
   "name": "python37464bit7d8f1560eda44d7483159e2196aa1f7a"
  },
  "language_info": {
   "codemirror_mode": {
    "name": "ipython",
    "version": 3
   },
   "file_extension": ".py",
   "mimetype": "text/x-python",
   "name": "python",
   "nbconvert_exporter": "python",
   "pygments_lexer": "ipython3",
   "version": "3.7.4"
  },
  "notice": "Copyright 2018 Amazon.com, Inc. or its affiliates. All Rights Reserved. Licensed under the Apache License, Version 2.0 (the \"License\"). You may not use this file except in compliance with the License. A copy of the License is located at http://aws.amazon.com/apache2.0/ or in the \"license\" file accompanying this file. This file is distributed on an \"AS IS\" BASIS, WITHOUT WARRANTIES OR CONDITIONS OF ANY KIND, either express or implied. See the License for the specific language governing permissions and limitations under the License."
 },
 "nbformat": 4,
 "nbformat_minor": 4
}
